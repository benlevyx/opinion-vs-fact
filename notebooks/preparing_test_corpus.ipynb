{
 "cells": [
  {
   "cell_type": "code",
   "execution_count": 18,
   "metadata": {
    "ExecuteTime": {
     "end_time": "2020-03-15T21:46:28.945641Z",
     "start_time": "2020-03-15T21:46:28.942204Z"
    }
   },
   "outputs": [],
   "source": [
    "import pandas as pd\n",
    "import numpy as np\n",
    "from opinion import config, utils"
   ]
  },
  {
   "cell_type": "code",
   "execution_count": 38,
   "metadata": {
    "ExecuteTime": {
     "end_time": "2020-03-15T21:47:38.993746Z",
     "start_time": "2020-03-15T21:47:38.849290Z"
    }
   },
   "outputs": [],
   "source": [
    "df_stories = pd.read_csv(config.data / 'sampled_stories.csv')\n",
    "df_stories = df_stories[['title', 'description', 'publish_date', 'stories_id', 'story_text', 'url']]\n",
    "df_stories['media_url'] = df_stories['url'].apply(lambda x: utils.parse_url(x)[0])\n",
    "df_stories = df_stories.sample(frac=1)"
   ]
  },
  {
   "cell_type": "code",
   "execution_count": 39,
   "metadata": {
    "ExecuteTime": {
     "end_time": "2020-03-15T21:47:39.326443Z",
     "start_time": "2020-03-15T21:47:39.299601Z"
    }
   },
   "outputs": [
    {
     "data": {
      "text/html": [
       "<div>\n",
       "<style scoped>\n",
       "    .dataframe tbody tr th:only-of-type {\n",
       "        vertical-align: middle;\n",
       "    }\n",
       "\n",
       "    .dataframe tbody tr th {\n",
       "        vertical-align: top;\n",
       "    }\n",
       "\n",
       "    .dataframe thead th {\n",
       "        text-align: right;\n",
       "    }\n",
       "</style>\n",
       "<table border=\"1\" class=\"dataframe\">\n",
       "  <thead>\n",
       "    <tr style=\"text-align: right;\">\n",
       "      <th></th>\n",
       "      <th>title</th>\n",
       "      <th>description</th>\n",
       "      <th>publish_date</th>\n",
       "      <th>stories_id</th>\n",
       "      <th>story_text</th>\n",
       "      <th>url</th>\n",
       "      <th>media_url</th>\n",
       "    </tr>\n",
       "  </thead>\n",
       "  <tbody>\n",
       "    <tr>\n",
       "      <th>192</th>\n",
       "      <td>Bond Report: U.S. government bond yields hold ...</td>\n",
       "      <td>U.S. Treasury yields are little-changed on Thu...</td>\n",
       "      <td>2020-01-16 08:28:16</td>\n",
       "      <td>1496576453</td>\n",
       "      <td>U.S. government bond yields hold steady as mar...</td>\n",
       "      <td>http://www.marketwatch.com/news/story.asp?guid...</td>\n",
       "      <td>marketwatch.com</td>\n",
       "    </tr>\n",
       "    <tr>\n",
       "      <th>780</th>\n",
       "      <td>Coronavirus: 75,000 people infected in Wuhan, ...</td>\n",
       "      <td>NaN</td>\n",
       "      <td>2020-01-31 00:00:00</td>\n",
       "      <td>1514147686</td>\n",
       "      <td>Coronavirus: 75,000 people infected in Wuhan, ...</td>\n",
       "      <td>https://www.telegraph.co.uk/news/2020/01/31/co...</td>\n",
       "      <td>telegraph.co.uk</td>\n",
       "    </tr>\n",
       "    <tr>\n",
       "      <th>905</th>\n",
       "      <td>Jeff Reeves's Strength in Numbers: More fuel f...</td>\n",
       "      <td>The only barrier is profitability over four co...</td>\n",
       "      <td>2020-01-30 12:48:54</td>\n",
       "      <td>1510173096</td>\n",
       "      <td>More fuel for Tesla? Stock could join the S&amp;P ...</td>\n",
       "      <td>http://www.marketwatch.com/news/story.asp?guid...</td>\n",
       "      <td>marketwatch.com</td>\n",
       "    </tr>\n",
       "    <tr>\n",
       "      <th>411</th>\n",
       "      <td>Leo Has Its Finger on the Pulse</td>\n",
       "      <td>Hannah Goldfield reviews the Williamsburg rest...</td>\n",
       "      <td>2020-01-31 06:00:00</td>\n",
       "      <td>1510610798</td>\n",
       "      <td>Leo Has Its Finger on the Pulse Improbable but...</td>\n",
       "      <td>https://www.newyorker.com/magazine/2020/02/10/...</td>\n",
       "      <td>newyorker.com</td>\n",
       "    </tr>\n",
       "    <tr>\n",
       "      <th>232</th>\n",
       "      <td>Tucker Carlson: Forget Warren. Democrats are l...</td>\n",
       "      <td>The Democratic Party is either going to nomina...</td>\n",
       "      <td>2020-01-15 09:29:45</td>\n",
       "      <td>1495635914</td>\n",
       "      <td>Tucker Carlson: Forget Warren. Democrats are l...</td>\n",
       "      <td>https://www.foxnews.com/opinion/tucker-carlson...</td>\n",
       "      <td>foxnews.com</td>\n",
       "    </tr>\n",
       "    <tr>\n",
       "      <th>...</th>\n",
       "      <td>...</td>\n",
       "      <td>...</td>\n",
       "      <td>...</td>\n",
       "      <td>...</td>\n",
       "      <td>...</td>\n",
       "      <td>...</td>\n",
       "      <td>...</td>\n",
       "    </tr>\n",
       "    <tr>\n",
       "      <th>183</th>\n",
       "      <td>Ellie Simmonds: ‘Going into Rio, swimming for ...</td>\n",
       "      <td>Having been pushed to the brink of retirement ...</td>\n",
       "      <td>2020-01-10 19:01:51</td>\n",
       "      <td>1491958415</td>\n",
       "      <td>Ellie Simmonds: ‘Going into Rio, swimming for ...</td>\n",
       "      <td>https://www.theguardian.com/sport/2020/jan/11/...</td>\n",
       "      <td>theguardian.com</td>\n",
       "    </tr>\n",
       "    <tr>\n",
       "      <th>921</th>\n",
       "      <td>Impact2020 Briefing: Jan. 28, 2020</td>\n",
       "      <td>Welcome to your Impact2020 briefing for Tuesda...</td>\n",
       "      <td>2020-01-28 13:42:54</td>\n",
       "      <td>1507624943</td>\n",
       "      <td>Impact2020 Briefing: Jan. 28, 2020 | McClatchy...</td>\n",
       "      <td>https://www.mcclatchydc.com/site-services/news...</td>\n",
       "      <td>mcclatchydc.com</td>\n",
       "    </tr>\n",
       "    <tr>\n",
       "      <th>640</th>\n",
       "      <td>Hammond scores 20 to lift USC Upstate over Ham...</td>\n",
       "      <td>Everette Hammond had 20 points as South Caroli...</td>\n",
       "      <td>2020-01-08 21:28:06</td>\n",
       "      <td>1490097275</td>\n",
       "      <td>Hammond scores 20 to lift USC Upstate over Ham...</td>\n",
       "      <td>https://www.miamiherald.com/sports/article2391...</td>\n",
       "      <td>miamiherald.com</td>\n",
       "    </tr>\n",
       "    <tr>\n",
       "      <th>1162</th>\n",
       "      <td>Why the federal rush to amend assisted dying l...</td>\n",
       "      <td>\\n                        &lt;img src='https://i....</td>\n",
       "      <td>2020-01-30 04:00:00</td>\n",
       "      <td>1509915941</td>\n",
       "      <td>This column is an opinion by Ray Pennings, co-...</td>\n",
       "      <td>https://www.cbc.ca/news/opinion/opinion-assist...</td>\n",
       "      <td>cbc.ca</td>\n",
       "    </tr>\n",
       "    <tr>\n",
       "      <th>269</th>\n",
       "      <td>Russia Resumes Oil Supplies to Belarus Amid Ta...</td>\n",
       "      <td>&lt;aside class=\"right-rail__container right-rail...</td>\n",
       "      <td>2020-01-04 15:15:13</td>\n",
       "      <td>1486541069</td>\n",
       "      <td>Russia Resumes Limited Oil Supplies to Belarus...</td>\n",
       "      <td>http://feedproxy.google.com/~r/time/topstories...</td>\n",
       "      <td>feedproxy.google.com</td>\n",
       "    </tr>\n",
       "  </tbody>\n",
       "</table>\n",
       "<p>1218 rows × 7 columns</p>\n",
       "</div>"
      ],
      "text/plain": [
       "                                                  title  \\\n",
       "192   Bond Report: U.S. government bond yields hold ...   \n",
       "780   Coronavirus: 75,000 people infected in Wuhan, ...   \n",
       "905   Jeff Reeves's Strength in Numbers: More fuel f...   \n",
       "411                     Leo Has Its Finger on the Pulse   \n",
       "232   Tucker Carlson: Forget Warren. Democrats are l...   \n",
       "...                                                 ...   \n",
       "183   Ellie Simmonds: ‘Going into Rio, swimming for ...   \n",
       "921                  Impact2020 Briefing: Jan. 28, 2020   \n",
       "640   Hammond scores 20 to lift USC Upstate over Ham...   \n",
       "1162  Why the federal rush to amend assisted dying l...   \n",
       "269   Russia Resumes Oil Supplies to Belarus Amid Ta...   \n",
       "\n",
       "                                            description         publish_date  \\\n",
       "192   U.S. Treasury yields are little-changed on Thu...  2020-01-16 08:28:16   \n",
       "780                                                 NaN  2020-01-31 00:00:00   \n",
       "905   The only barrier is profitability over four co...  2020-01-30 12:48:54   \n",
       "411   Hannah Goldfield reviews the Williamsburg rest...  2020-01-31 06:00:00   \n",
       "232   The Democratic Party is either going to nomina...  2020-01-15 09:29:45   \n",
       "...                                                 ...                  ...   \n",
       "183   Having been pushed to the brink of retirement ...  2020-01-10 19:01:51   \n",
       "921   Welcome to your Impact2020 briefing for Tuesda...  2020-01-28 13:42:54   \n",
       "640   Everette Hammond had 20 points as South Caroli...  2020-01-08 21:28:06   \n",
       "1162  \\n                        <img src='https://i....  2020-01-30 04:00:00   \n",
       "269   <aside class=\"right-rail__container right-rail...  2020-01-04 15:15:13   \n",
       "\n",
       "      stories_id                                         story_text  \\\n",
       "192   1496576453  U.S. government bond yields hold steady as mar...   \n",
       "780   1514147686  Coronavirus: 75,000 people infected in Wuhan, ...   \n",
       "905   1510173096  More fuel for Tesla? Stock could join the S&P ...   \n",
       "411   1510610798  Leo Has Its Finger on the Pulse Improbable but...   \n",
       "232   1495635914  Tucker Carlson: Forget Warren. Democrats are l...   \n",
       "...          ...                                                ...   \n",
       "183   1491958415  Ellie Simmonds: ‘Going into Rio, swimming for ...   \n",
       "921   1507624943  Impact2020 Briefing: Jan. 28, 2020 | McClatchy...   \n",
       "640   1490097275  Hammond scores 20 to lift USC Upstate over Ham...   \n",
       "1162  1509915941  This column is an opinion by Ray Pennings, co-...   \n",
       "269   1486541069  Russia Resumes Limited Oil Supplies to Belarus...   \n",
       "\n",
       "                                                    url             media_url  \n",
       "192   http://www.marketwatch.com/news/story.asp?guid...       marketwatch.com  \n",
       "780   https://www.telegraph.co.uk/news/2020/01/31/co...       telegraph.co.uk  \n",
       "905   http://www.marketwatch.com/news/story.asp?guid...       marketwatch.com  \n",
       "411   https://www.newyorker.com/magazine/2020/02/10/...         newyorker.com  \n",
       "232   https://www.foxnews.com/opinion/tucker-carlson...           foxnews.com  \n",
       "...                                                 ...                   ...  \n",
       "183   https://www.theguardian.com/sport/2020/jan/11/...       theguardian.com  \n",
       "921   https://www.mcclatchydc.com/site-services/news...       mcclatchydc.com  \n",
       "640   https://www.miamiherald.com/sports/article2391...       miamiherald.com  \n",
       "1162  https://www.cbc.ca/news/opinion/opinion-assist...                cbc.ca  \n",
       "269   http://feedproxy.google.com/~r/time/topstories...  feedproxy.google.com  \n",
       "\n",
       "[1218 rows x 7 columns]"
      ]
     },
     "execution_count": 39,
     "metadata": {},
     "output_type": "execute_result"
    }
   ],
   "source": [
    "df_stories"
   ]
  },
  {
   "cell_type": "code",
   "execution_count": 40,
   "metadata": {
    "ExecuteTime": {
     "end_time": "2020-03-15T21:49:45.301893Z",
     "start_time": "2020-03-15T21:49:44.873238Z"
    }
   },
   "outputs": [],
   "source": [
    "df_stories.to_csv(config.data / 'processed_sampled_stories.csv')"
   ]
  },
  {
   "cell_type": "code",
   "execution_count": null,
   "metadata": {},
   "outputs": [],
   "source": []
  }
 ],
 "metadata": {
  "kernelspec": {
   "display_name": "Python 3 (mediacloud)",
   "language": "python",
   "name": "mediacloud"
  },
  "language_info": {
   "codemirror_mode": {
    "name": "ipython",
    "version": 3
   },
   "file_extension": ".py",
   "mimetype": "text/x-python",
   "name": "python",
   "nbconvert_exporter": "python",
   "pygments_lexer": "ipython3",
   "version": "3.7.6"
  },
  "varInspector": {
   "cols": {
    "lenName": 16,
    "lenType": 16,
    "lenVar": 40
   },
   "kernels_config": {
    "python": {
     "delete_cmd_postfix": "",
     "delete_cmd_prefix": "del ",
     "library": "var_list.py",
     "varRefreshCmd": "print(var_dic_list())"
    },
    "r": {
     "delete_cmd_postfix": ") ",
     "delete_cmd_prefix": "rm(",
     "library": "var_list.r",
     "varRefreshCmd": "cat(var_dic_list()) "
    }
   },
   "types_to_exclude": [
    "module",
    "function",
    "builtin_function_or_method",
    "instance",
    "_Feature"
   ],
   "window_display": false
  }
 },
 "nbformat": 4,
 "nbformat_minor": 2
}
